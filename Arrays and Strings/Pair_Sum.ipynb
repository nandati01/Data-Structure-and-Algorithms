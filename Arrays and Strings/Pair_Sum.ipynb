{
 "cells": [
  {
   "attachments": {},
   "cell_type": "markdown",
   "metadata": {},
   "source": [
    "# Pair Sum\n",
    "\n",
    "Given a sorted array of unique integers and a target integer, return true if there exists a pair of numbers that sum to target, false otherwise. \n",
    "\n",
    "For example, given arr = [1, 2, 3, 4, 5, 6] and target = 9, return true since 3 + 6 = 9."
   ]
  },
  {
   "attachments": {},
   "cell_type": "markdown",
   "metadata": {},
   "source": [
    "We can use the two pointers approach for this. We can have one pointer at the left of the array and the other pointer at the last number. If we look at the example array, 1 + 6 is 7, which is smaller than our target 9. Since, the array is sorted, we can move the left pointer. Now we have 2 + 6, which is 8, which is also smaller, so we move the left pointer again. \n",
    "\n",
    "Say we had a different array arr2 = [1, 3, 4, 7, 8, 13] and the target was 12. The operations would be asa follows:\n",
    "- Check the first and the last number: 1 + 13 = 14 > 12\n",
    "- Move the right pointer: 1 + 8 = 9 < 12\n",
    "- Move the left pointer: 3 + 8 = 11 < 12\n",
    "- Move the left pointer: 4 + 8 = 12 = target\n",
    "\n",
    "Because the array is sorted, at the worst case the complexity is O(n). Since the algorithm ensures that each pointer can only move once across the array, the maximum number of steps taken will be proportional to the length of the array."
   ]
  },
  {
   "cell_type": "code",
   "execution_count": 1,
   "metadata": {},
   "outputs": [],
   "source": [
    "def has_pair(arr, target):\n",
    "    left = 0\n",
    "    right = len(arr) - 1\n",
    "\n",
    "    while left < right:\n",
    "        current_sum = arr[left] + arr[right]\n",
    "\n",
    "        if current_sum == target:\n",
    "            return True\n",
    "        \n",
    "        elif current_sum > target:\n",
    "            right -= 1\n",
    "        else:\n",
    "            left += 1\n",
    "    return False"
   ]
  },
  {
   "cell_type": "code",
   "execution_count": 2,
   "metadata": {},
   "outputs": [
    {
     "name": "stdout",
     "output_type": "stream",
     "text": [
      "Array: [1, 2, 3, 4, 5], Target: 9 -> Result: True\n",
      "Array: [1, 2, 3, 4, 5], Target: 10 -> Result: False\n",
      "Array: [-5, -3, -1, 2, 4, 6], Target: 1 -> Result: True\n",
      "Array: [-4, -2, 1, 3, 5], Target: 0 -> Result: False\n",
      "Array: [1, 9], Target: 10 -> Result: True\n",
      "Array: [100, 200, 300, 400, 500], Target: 900 -> Result: True\n",
      "Array: [-800, -600, -400, -200, 0], Target: -1000 -> Result: True\n",
      "Array: [], Target: 5 -> Result: False\n",
      "Array: [5], Target: 5 -> Result: False\n",
      "Array: [2, 2, 2, 2], Target: 5 -> Result: False\n"
     ]
    }
   ],
   "source": [
    "test_cases = [\n",
    "    ([1, 2, 3, 4, 5], 9),\n",
    "    ([1, 2, 3, 4, 5], 10),\n",
    "    ([-5, -3, -1, 2, 4, 6], 1),\n",
    "    ([-4, -2, 1, 3, 5], 0),\n",
    "    ([1, 9], 10),\n",
    "    ([100, 200, 300, 400, 500], 900),\n",
    "    ([-800, -600, -400, -200, 0], -1000),\n",
    "    ([], 5),\n",
    "    ([5], 5),\n",
    "    ([2, 2, 2, 2], 5),\n",
    "]\n",
    "\n",
    "for arr, target in test_cases:\n",
    "    result = has_pair(arr, target)\n",
    "    print(f\"Array: {arr}, Target: {target} -> Result: {result}\")"
   ]
  }
 ],
 "metadata": {
  "kernelspec": {
   "display_name": "Python 3",
   "language": "python",
   "name": "python3"
  },
  "language_info": {
   "codemirror_mode": {
    "name": "ipython",
    "version": 3
   },
   "file_extension": ".py",
   "mimetype": "text/x-python",
   "name": "python",
   "nbconvert_exporter": "python",
   "pygments_lexer": "ipython3",
   "version": "3.11.3"
  },
  "orig_nbformat": 4
 },
 "nbformat": 4,
 "nbformat_minor": 2
}
