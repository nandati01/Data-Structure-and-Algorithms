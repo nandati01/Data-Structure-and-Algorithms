{
 "cells": [
  {
   "attachments": {},
   "cell_type": "markdown",
   "metadata": {},
   "source": [
    "# Merge Two Sorted Arrays\n",
    "\n",
    "Given two sorted integer arrays, return a new sorted array that combines the both of them. Example: arr1 = [1, 3, 5, 7], arr2 = [2, 4, 6, 8, 9], return [1, 2, 3, 4, 5, 6, 7, 8, 9]. \n",
    "\n",
    "To solve this problem, we can use the two pointers method. We will initially set the two pointers to the first index of the two arrays, respectively. The idea is to iteratively compare the elements that each pointer refers to, and selecting the smaller of the two to add to the new array.\n",
    "\n",
    "Here's a solution breakdown:\n",
    "- Initialize 'i' and 'j' at the beginning of arr1 and arr2 respectively\n",
    "- Compare elements at i and j and insert the smaller of the two into a new array 'arr'\n",
    "- Increment the pointer that pointed to the smaller array\n",
    "- Once one of the pointers reaches the end of its array, append the remaining elements of the other array to arr\n",
    "- Return the merged array\n",
    "\n",
    "Since the arrays are already sorted, the time complexity for this algorithm is O(n + m)"
   ]
  },
  {
   "cell_type": "code",
   "execution_count": 1,
   "metadata": {},
   "outputs": [],
   "source": [
    "def combine(arr1, arr2):\n",
    "    i = j = 0\n",
    "    arr = []\n",
    "\n",
    "    while i < len(arr1) and j < len(arr2):\n",
    "        if arr1[i] < arr2[j]:\n",
    "            arr.append(arr1[i])\n",
    "            i += 1\n",
    "        else:\n",
    "            arr.append(arr2[j])\n",
    "            j += 1\n",
    "\n",
    "    while i < len(arr1):\n",
    "        arr.append(arr1[i])\n",
    "        i += 1\n",
    "    \n",
    "    while j < len(arr2):\n",
    "        arr.append(arr2[j])\n",
    "        j += 1\n",
    "\n",
    "    return arr"
   ]
  },
  {
   "cell_type": "code",
   "execution_count": 3,
   "metadata": {},
   "outputs": [
    {
     "data": {
      "text/plain": [
       "[([1, 2, 3, 4, 5, 6], True),\n",
       " ([1, 2, 3, 4, 5, 7, 9], True),\n",
       " ([-5, -4, -3, -2, -1, 0], True),\n",
       " ([1, 2, 3, 4, 5, 6], True),\n",
       " ([1, 2, 3], True),\n",
       " ([], True),\n",
       " ([1, 3, 3, 5, 5, 7, 7, 9], True),\n",
       " ([2, 2, 2, 2, 2, 2], True)]"
      ]
     },
     "execution_count": 3,
     "metadata": {},
     "output_type": "execute_result"
    }
   ],
   "source": [
    "test_cases = [\n",
    "    ([1, 3, 5], [2, 4, 6], [1, 2, 3, 4, 5, 6]),\n",
    "    ([1, 3, 5, 7, 9], [2, 4], [1, 2, 3, 4, 5, 7, 9]),\n",
    "    ([-5, -3, -1], [-4, -2, 0], [-5, -4, -3, -2, -1, 0]),\n",
    "    ([1, 2, 3], [4, 5, 6], [1, 2, 3, 4, 5, 6]),\n",
    "    ([], [1, 2, 3], [1, 2, 3]),\n",
    "    ([], [], []),\n",
    "    ([1, 3, 5, 7], [3, 5, 7, 9], [1, 3, 3, 5, 5, 7, 7, 9]),\n",
    "    ([2, 2, 2], [2, 2, 2], [2, 2, 2, 2, 2, 2]),\n",
    "]\n",
    "\n",
    "results = []\n",
    "\n",
    "for arr1, arr2, expected in test_cases:\n",
    "    result = combine(arr1, arr2)\n",
    "    success = result == expected\n",
    "    results.append((result, success))\n",
    "\n",
    "results"
   ]
  }
 ],
 "metadata": {
  "kernelspec": {
   "display_name": "Python 3",
   "language": "python",
   "name": "python3"
  },
  "language_info": {
   "codemirror_mode": {
    "name": "ipython",
    "version": 3
   },
   "file_extension": ".py",
   "mimetype": "text/x-python",
   "name": "python",
   "nbconvert_exporter": "python",
   "pygments_lexer": "ipython3",
   "version": "3.11.3"
  },
  "orig_nbformat": 4
 },
 "nbformat": 4,
 "nbformat_minor": 2
}
