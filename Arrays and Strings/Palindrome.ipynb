{
 "cells": [
  {
   "attachments": {},
   "cell_type": "markdown",
   "metadata": {},
   "source": [
    "# Palindrome Test\n",
    "\n",
    "Check to see if a given string is a Palindrome. A string is a palindrome if it reads the same forward as backward. Even after reversing it, it is still the same string. The first character is same as the last character, the second character is the same as the second last character, and so on. "
   ]
  },
  {
   "cell_type": "code",
   "execution_count": null,
   "metadata": {},
   "outputs": [],
   "source": [
    "def palindrome_test(s):\n",
    "    left = 0\n",
    "    right = len(s) - 1\n",
    "\n",
    "    "
   ]
  }
 ],
 "metadata": {
  "language_info": {
   "name": "python"
  },
  "orig_nbformat": 4
 },
 "nbformat": 4,
 "nbformat_minor": 2
}
