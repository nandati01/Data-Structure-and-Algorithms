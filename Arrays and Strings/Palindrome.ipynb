{
 "cells": [
  {
   "attachments": {},
   "cell_type": "markdown",
   "metadata": {},
   "source": [
    "# Palindrome Test\n",
    "\n",
    "Check to see if a given string is a Palindrome. A string is a palindrome if it reads the same forward as backward. Even after reversing it, it is still the same string. The first character is same as the last character, the second character is the same as the second last character, and so on. "
   ]
  },
  {
   "cell_type": "code",
   "execution_count": 2,
   "metadata": {},
   "outputs": [],
   "source": [
    "def palindrome_test(s):\n",
    "    left = 0\n",
    "    right = len(s) - 1\n",
    "\n",
    "    while left < right:\n",
    "        if s[left] != s[right]:\n",
    "            return False\n",
    "        left += 1\n",
    "        right -= 1\n",
    "\n",
    "    return True"
   ]
  },
  {
   "cell_type": "code",
   "execution_count": 6,
   "metadata": {},
   "outputs": [
    {
     "data": {
      "text/plain": [
       "{'madam': True,\n",
       " 'step on no pets': True,\n",
       " 'Top Spot': False,\n",
       " 'Evil is a name of a foeman, as I live': False,\n",
       " 'Able was I ere I saw Elba': False,\n",
       " '1234321': True,\n",
       " 'Was it a car or a cat I saw?': False,\n",
       " \"No 'x' in Nixon\": False,\n",
       " 'Not a palindrome': False,\n",
       " 'almostomla': False}"
      ]
     },
     "execution_count": 6,
     "metadata": {},
     "output_type": "execute_result"
    }
   ],
   "source": [
    "test_cases = [\"madam\",\n",
    "              \"step on no pets\",\n",
    "              \"Top Spot\",\n",
    "              \"Evil is a name of a foeman, as I live\",\n",
    "              \"Able was I ere I saw Elba\",\n",
    "              \"1234321\",\n",
    "              \"Was it a car or a cat I saw?\",\n",
    "              \"No 'x' in Nixon\",\n",
    "              \"Not a palindrome\",\n",
    "              \"almostomla\"]\n",
    "test_results = {test_case : palindrome_test(test_case) for test_case in test_cases}\n",
    "test_results"
   ]
  },
  {
   "cell_type": "code",
   "execution_count": null,
   "metadata": {},
   "outputs": [],
   "source": []
  }
 ],
 "metadata": {
  "kernelspec": {
   "display_name": "Python 3",
   "language": "python",
   "name": "python3"
  },
  "language_info": {
   "codemirror_mode": {
    "name": "ipython",
    "version": 3
   },
   "file_extension": ".py",
   "mimetype": "text/x-python",
   "name": "python",
   "nbconvert_exporter": "python",
   "pygments_lexer": "ipython3",
   "version": "3.11.3"
  },
  "orig_nbformat": 4
 },
 "nbformat": 4,
 "nbformat_minor": 2
}
